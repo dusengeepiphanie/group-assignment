{
 "cells": [
  {
   "cell_type": "markdown",
   "metadata": {},
   "source": [
    "GROUP MEMEBER\n",
    "DUSENGE EPIPHANIE 21RP07131\n",
    "UGIRAMAHIRWE GENEREUSE 21RP03704\n",
    "NYIRAHABIMANA YVETTE 21RP07325\n",
    "KIBERINKA JOYEUSE 21RP07065"
   ]
  },
  {
   "cell_type": "markdown",
   "metadata": {},
   "source": [
    "QN1.1.\tPizza Toppings: Write a loop that prompts the user to enter a series of pizza toppings until they enter a 'quit' value. As they enter each topping, print a message saying you’ll add that topping to their pizza."
   ]
  },
  {
   "cell_type": "code",
   "execution_count": 2,
   "metadata": {},
   "outputs": [
    {
     "name": "stdout",
     "output_type": "stream",
     "text": [
      "Adding lemon to your pizza!\n",
      "Adding vegfistables to your pizza!\n",
      "Adding eggs to your pizza!\n"
     ]
    }
   ],
   "source": [
    "pizza_topping=[]\n",
    "while True:\n",
    "    \n",
    "    top=input(\"please enter your choice\")\n",
    "    if top==\"quit\":\n",
    "        break\n",
    "    print(f\"Adding {top} to your pizza!\")\n",
    "    for top in pizza_topping:\n",
    "        print(pizza_topping.append(top),\"top is added\")\n"
   ]
  },
  {
   "cell_type": "markdown",
   "metadata": {},
   "source": [
    "2.\tMovie Tickets: A movie theatre charges different ticket prices depending on a person’s age. If a person is under the age of 3, the ticket is free; if they are between 3 and 12, the ticket is $10; and if they are over age 12, the ticket is $15. Write a loop in which you ask users their age, and then tell them the cost of their movie ticket."
   ]
  },
  {
   "cell_type": "code",
   "execution_count": 3,
   "metadata": {},
   "outputs": [
    {
     "name": "stdout",
     "output_type": "stream",
     "text": [
      "You are 5 years old and, \n",
      "  Your ticket is $10\n",
      "You are 1 years old and, \n",
      "  You have free ticket!\n"
     ]
    }
   ],
   "source": [
    "fee=(\"fee antry\",\"$10\",\"$15\")\n",
    "for  fees in fee:\n",
    "    age=input(\"enter your age\")\n",
    "    age=int(age)\n",
    "    \n",
    "    if age<=3:\n",
    "        \n",
    "        print(f\"age is {age} and fee is{fee[0]}\")\n",
    "    elif age>=4 and age<=13:\n",
    "        \n",
    "        print(f\"age is {age} and fee is{fee[1]}\")\n",
    "    else:\n",
    "      \n",
    "        print(f\"age is {age} and fee is{fee[2]}\")\n"
   ]
  },
  {
   "cell_type": "markdown",
   "metadata": {},
   "source": [
    "3.\tThree Exits: Write different versions of either Exercise 1 or 2 that do each of the following at least once:\n",
    "\tUse a conditional test in the while statement to stop the loop.\n",
    "\t Use an active variable to control how long the loop runs.\n",
    "\tUse a break statement to exit the loop when the user enters a 'quit' value.\n"
   ]
  },
  {
   "cell_type": "code",
   "execution_count": 3,
   "metadata": {},
   "outputs": [
    {
     "name": "stdout",
     "output_type": "stream",
     "text": [
      "Adding oil to your pizza!\n",
      "Adding flour to your pizza!\n"
     ]
    }
   ],
   "source": [
    "#question 1\n",
    "\n",
    "pizza_topping=[]\n",
    "while True:\n",
    "    \n",
    "    top=input(\"please enter your choice\")\n",
    "    if top==\"quit\":\n",
    "        break\n",
    "    print(f\"Adding {top} to your pizza!\")\n",
    "    for top in pizza_topping:\n",
    "        print(pizza_topping.append(top),\"top is added\")\n",
    "\n"
   ]
  },
  {
   "cell_type": "code",
   "execution_count": 4,
   "metadata": {},
   "outputs": [
    {
     "name": "stdout",
     "output_type": "stream",
     "text": [
      "age is 3years, fee is free ticket\n",
      "age is 7years, fee is $10\n",
      "age is 80years, fee is $15\n"
     ]
    }
   ],
   "source": [
    "#question2\n",
    "while True:\n",
    "    age = input(\"please enter your age\")\n",
    "    if age == 'quit':\n",
    "        break\n",
    "    ages = int(age)\n",
    "\n",
    "    if ages <= 3:\n",
    "        print(f\"age is {ages}years, fee is free ticket\")\n",
    "     \n",
    "    elif ages > 3 and ages<=13:\n",
    "        print(f\"age is {ages}years, fee is $10\")\n",
    "      \n",
    "    else:\n",
    "        print(f\"age is {ages}years, fee is $15\")"
   ]
  },
  {
   "cell_type": "markdown",
   "metadata": {},
   "source": [
    "4.\tInfinity: Write a loop that never ends, and run it. (To end the loop, press CTRL-C or close the window displaying the output.) "
   ]
  },
  {
   "cell_type": "code",
   "execution_count": null,
   "metadata": {},
   "outputs": [],
   "source": [
    "while True:\n",
    "    print(\"This loop runs indefinitely. Press CTRL-C to end it.\")\n"
   ]
  },
  {
   "cell_type": "markdown",
   "metadata": {},
   "source": [
    "5.\tMake a list called sandwich_orders and fill it with the names of various sandwiches. Then make an empty list called finished_sandwiches. Loop through the list of sandwich orders and print a message for each order, such as I made your tuna sandwich. As each sandwich is made, move it to the list of finished sandwiches. After all the sandwiches have been made, print a message listing each sandwich that was made."
   ]
  },
  {
   "cell_type": "code",
   "execution_count": 8,
   "metadata": {},
   "outputs": [
    {
     "name": "stdout",
     "output_type": "stream",
     "text": [
      "I made your tuna sandwich.\n",
      "I made your turkey sandwich.\n",
      "I made your veggie sandwich.\n",
      "I made your ham and cheese sandwich.\n",
      "\n",
      "List of finished sandwiches:\n",
      "- tuna\n",
      "- turkey\n",
      "- veggie\n",
      "- ham and cheese\n"
     ]
    }
   ],
   "source": [
    "sandwich_orders = [\"tuna\", \"turkey\", \"veggie\", \"ham and cheese\"]\n",
    "finished_sandwiches = []\n",
    "\n",
    "while sandwich_orders:\n",
    "    current_order = sandwich_orders.pop(0)\n",
    "    print(f\"I made your {current_order} sandwich.\")\n",
    "    finished_sandwiches.append(current_order)\n",
    "\n",
    "print(\"\\nList of finished sandwiches:\")\n",
    "for sandwich in finished_sandwiches:\n",
    "    print(\"- \" + sandwich)\n"
   ]
  }
 ],
 "metadata": {
  "kernelspec": {
   "display_name": "Python 3",
   "language": "python",
   "name": "python3"
  },
  "language_info": {
   "codemirror_mode": {
    "name": "ipython",
    "version": 3
   },
   "file_extension": ".py",
   "mimetype": "text/x-python",
   "name": "python",
   "nbconvert_exporter": "python",
   "pygments_lexer": "ipython3",
   "version": "3.12.0"
  }
 },
 "nbformat": 4,
 "nbformat_minor": 2
}
